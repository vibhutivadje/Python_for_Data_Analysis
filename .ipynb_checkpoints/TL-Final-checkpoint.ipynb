{
 "cells": [
  {
   "cell_type": "code",
   "execution_count": null,
   "metadata": {},
   "outputs": [],
   "source": []
  },
  {
   "cell_type": "markdown",
   "metadata": {},
   "source": [
    "# Import the libraries"
   ]
  },
  {
   "cell_type": "code",
   "execution_count": 1,
   "metadata": {},
   "outputs": [],
   "source": [
    "import numpy as np\n",
    "import pandas as pd\n",
    "\n",
    "from matplotlib import pyplot as plt\n",
    "\n",
    "from scipy.stats import norm\n",
    "import seaborn as sns"
   ]
  },
  {
   "cell_type": "markdown",
   "metadata": {},
   "source": [
    "# Load the data"
   ]
  },
  {
   "cell_type": "code",
   "execution_count": 2,
   "metadata": {},
   "outputs": [
    {
     "data": {
      "text/html": [
       "<div>\n",
       "<style scoped>\n",
       "    .dataframe tbody tr th:only-of-type {\n",
       "        vertical-align: middle;\n",
       "    }\n",
       "\n",
       "    .dataframe tbody tr th {\n",
       "        vertical-align: top;\n",
       "    }\n",
       "\n",
       "    .dataframe thead th {\n",
       "        text-align: right;\n",
       "    }\n",
       "</style>\n",
       "<table border=\"1\" class=\"dataframe\">\n",
       "  <thead>\n",
       "    <tr style=\"text-align: right;\">\n",
       "      <th></th>\n",
       "      <th>USER_ID</th>\n",
       "      <th>EVENT_ID</th>\n",
       "      <th>SESSION_ID</th>\n",
       "      <th>EVENT_TIME</th>\n",
       "      <th>SESSION_TIME</th>\n",
       "      <th>DATE_SESSION_TIME</th>\n",
       "      <th>PLATFORM</th>\n",
       "      <th>DEVICE_TYPE</th>\n",
       "      <th>COUNTRY</th>\n",
       "      <th>REGION</th>\n",
       "      <th>...</th>\n",
       "      <th>REFERRER</th>\n",
       "      <th>LANDING_PAGE</th>\n",
       "      <th>BROWSER</th>\n",
       "      <th>UTM_SOURCE</th>\n",
       "      <th>UTM_CAMPAIGN</th>\n",
       "      <th>UTM_MEDIUM</th>\n",
       "      <th>UTM_TERM</th>\n",
       "      <th>PATH</th>\n",
       "      <th>HASH</th>\n",
       "      <th>TITLE</th>\n",
       "    </tr>\n",
       "  </thead>\n",
       "  <tbody>\n",
       "    <tr>\n",
       "      <th>0</th>\n",
       "      <td>2557545626170835</td>\n",
       "      <td>6856211171875180</td>\n",
       "      <td>1042303506666311</td>\n",
       "      <td>2020-08-29 13:23:24.389000-07:00</td>\n",
       "      <td>2020-08-29 13:21:48.717000-07:00</td>\n",
       "      <td>2020-08-29</td>\n",
       "      <td>iOS 13.6.1</td>\n",
       "      <td>Mobile</td>\n",
       "      <td>United States</td>\n",
       "      <td>Massachusetts</td>\n",
       "      <td>...</td>\n",
       "      <td>NaN</td>\n",
       "      <td>www.thirdlove.com/pages/fit-finder</td>\n",
       "      <td>Mobile Safari UI/WKWebView 13.6.1</td>\n",
       "      <td>facebook</td>\n",
       "      <td>internal-prspt internal</td>\n",
       "      <td>paidsocial</td>\n",
       "      <td>NaN</td>\n",
       "      <td>/pages/fit-finder</td>\n",
       "      <td>#size_found_email</td>\n",
       "      <td>ThirdLove Fit Finder - Find your Perfect Bra S...</td>\n",
       "    </tr>\n",
       "    <tr>\n",
       "      <th>1</th>\n",
       "      <td>8769781012632591</td>\n",
       "      <td>6873230842419410</td>\n",
       "      <td>5067325497049704</td>\n",
       "      <td>2020-10-10 04:56:54.729000-07:00</td>\n",
       "      <td>2020-10-10 04:52:49.620000-07:00</td>\n",
       "      <td>2020-10-10</td>\n",
       "      <td>iOS 14.0.1</td>\n",
       "      <td>Mobile</td>\n",
       "      <td>United States</td>\n",
       "      <td>New York</td>\n",
       "      <td>...</td>\n",
       "      <td>https://www.google.com</td>\n",
       "      <td>www.thirdlove.com/collections/bras</td>\n",
       "      <td>Mobile Safari 14.0</td>\n",
       "      <td>google</td>\n",
       "      <td>search-branded exact</td>\n",
       "      <td>cpc</td>\n",
       "      <td>NaN</td>\n",
       "      <td>/pages/fit-finder</td>\n",
       "      <td>#size_found_email</td>\n",
       "      <td>ThirdLove Fit Finder - Find your Perfect Bra S...</td>\n",
       "    </tr>\n",
       "    <tr>\n",
       "      <th>2</th>\n",
       "      <td>7976668210479710</td>\n",
       "      <td>6602106094447681</td>\n",
       "      <td>1930848148732900</td>\n",
       "      <td>2020-09-22 14:04:01.964000-07:00</td>\n",
       "      <td>2020-09-22 13:59:35.683000-07:00</td>\n",
       "      <td>2020-09-22</td>\n",
       "      <td>Mac OS X 10.15.6</td>\n",
       "      <td>Desktop</td>\n",
       "      <td>United States</td>\n",
       "      <td>California</td>\n",
       "      <td>...</td>\n",
       "      <td>https://www.google.com/</td>\n",
       "      <td>www.thirdlove.com/pages/fit-finder</td>\n",
       "      <td>Chrome 85.0.4183</td>\n",
       "      <td>google</td>\n",
       "      <td>search-branded exact</td>\n",
       "      <td>cpc</td>\n",
       "      <td>NaN</td>\n",
       "      <td>/pages/fit-finder</td>\n",
       "      <td>#size_found_email</td>\n",
       "      <td>ThirdLove Fit Finder - Find your Perfect Bra S...</td>\n",
       "    </tr>\n",
       "    <tr>\n",
       "      <th>3</th>\n",
       "      <td>7209582442183468</td>\n",
       "      <td>7677844478512822</td>\n",
       "      <td>8014698450883448</td>\n",
       "      <td>2020-08-15 11:58:04.338000-07:00</td>\n",
       "      <td>2020-08-15 11:46:24.122000-07:00</td>\n",
       "      <td>2020-08-15</td>\n",
       "      <td>Mac OS X 10.13.6</td>\n",
       "      <td>Desktop</td>\n",
       "      <td>United States</td>\n",
       "      <td>Maryland</td>\n",
       "      <td>...</td>\n",
       "      <td>https://www.thirdlove.com/collections/bras?cli...</td>\n",
       "      <td>www.thirdlove.com/products/24-7-classic-t-shir...</td>\n",
       "      <td>Safari 13.1.2</td>\n",
       "      <td>NaN</td>\n",
       "      <td>NaN</td>\n",
       "      <td>NaN</td>\n",
       "      <td>NaN</td>\n",
       "      <td>/pages/fit-finder</td>\n",
       "      <td>#size_found_email</td>\n",
       "      <td>ThirdLove Fit Finder - Find your Perfect Bra S...</td>\n",
       "    </tr>\n",
       "    <tr>\n",
       "      <th>4</th>\n",
       "      <td>5978456661474559</td>\n",
       "      <td>7272493436495001</td>\n",
       "      <td>7545268238894768</td>\n",
       "      <td>2020-08-17 18:33:13.857000-07:00</td>\n",
       "      <td>2020-08-17 18:25:36.429000-07:00</td>\n",
       "      <td>2020-08-17</td>\n",
       "      <td>iOS 13.5.1</td>\n",
       "      <td>Mobile</td>\n",
       "      <td>United States</td>\n",
       "      <td>Illinois</td>\n",
       "      <td>...</td>\n",
       "      <td>http://m.facebook.com</td>\n",
       "      <td>www.thirdlove.com/pages/fit-guarantee-1</td>\n",
       "      <td>Mobile Safari UI/WKWebView 13.5.1</td>\n",
       "      <td>facebook</td>\n",
       "      <td>internal-broad sep</td>\n",
       "      <td>paidsocial</td>\n",
       "      <td>NaN</td>\n",
       "      <td>/pages/fit-finder</td>\n",
       "      <td>#size_found_email</td>\n",
       "      <td>ThirdLove Fit Finder - Find your Perfect Bra S...</td>\n",
       "    </tr>\n",
       "  </tbody>\n",
       "</table>\n",
       "<p>5 rows × 21 columns</p>\n",
       "</div>"
      ],
      "text/plain": [
       "            USER_ID          EVENT_ID        SESSION_ID  \\\n",
       "0  2557545626170835  6856211171875180  1042303506666311   \n",
       "1  8769781012632591  6873230842419410  5067325497049704   \n",
       "2  7976668210479710  6602106094447681  1930848148732900   \n",
       "3  7209582442183468  7677844478512822  8014698450883448   \n",
       "4  5978456661474559  7272493436495001  7545268238894768   \n",
       "\n",
       "                         EVENT_TIME                      SESSION_TIME  \\\n",
       "0  2020-08-29 13:23:24.389000-07:00  2020-08-29 13:21:48.717000-07:00   \n",
       "1  2020-10-10 04:56:54.729000-07:00  2020-10-10 04:52:49.620000-07:00   \n",
       "2  2020-09-22 14:04:01.964000-07:00  2020-09-22 13:59:35.683000-07:00   \n",
       "3  2020-08-15 11:58:04.338000-07:00  2020-08-15 11:46:24.122000-07:00   \n",
       "4  2020-08-17 18:33:13.857000-07:00  2020-08-17 18:25:36.429000-07:00   \n",
       "\n",
       "  DATE_SESSION_TIME          PLATFORM DEVICE_TYPE        COUNTRY  \\\n",
       "0        2020-08-29        iOS 13.6.1      Mobile  United States   \n",
       "1        2020-10-10        iOS 14.0.1      Mobile  United States   \n",
       "2        2020-09-22  Mac OS X 10.15.6     Desktop  United States   \n",
       "3        2020-08-15  Mac OS X 10.13.6     Desktop  United States   \n",
       "4        2020-08-17        iOS 13.5.1      Mobile  United States   \n",
       "\n",
       "          REGION  ...                                           REFERRER  \\\n",
       "0  Massachusetts  ...                                                NaN   \n",
       "1       New York  ...                             https://www.google.com   \n",
       "2     California  ...                            https://www.google.com/   \n",
       "3       Maryland  ...  https://www.thirdlove.com/collections/bras?cli...   \n",
       "4       Illinois  ...                              http://m.facebook.com   \n",
       "\n",
       "                                        LANDING_PAGE  \\\n",
       "0                 www.thirdlove.com/pages/fit-finder   \n",
       "1                 www.thirdlove.com/collections/bras   \n",
       "2                 www.thirdlove.com/pages/fit-finder   \n",
       "3  www.thirdlove.com/products/24-7-classic-t-shir...   \n",
       "4            www.thirdlove.com/pages/fit-guarantee-1   \n",
       "\n",
       "                             BROWSER UTM_SOURCE             UTM_CAMPAIGN  \\\n",
       "0  Mobile Safari UI/WKWebView 13.6.1   facebook  internal-prspt internal   \n",
       "1                 Mobile Safari 14.0     google     search-branded exact   \n",
       "2                   Chrome 85.0.4183     google     search-branded exact   \n",
       "3                      Safari 13.1.2        NaN                      NaN   \n",
       "4  Mobile Safari UI/WKWebView 13.5.1   facebook       internal-broad sep   \n",
       "\n",
       "   UTM_MEDIUM UTM_TERM               PATH               HASH  \\\n",
       "0  paidsocial      NaN  /pages/fit-finder  #size_found_email   \n",
       "1         cpc      NaN  /pages/fit-finder  #size_found_email   \n",
       "2         cpc      NaN  /pages/fit-finder  #size_found_email   \n",
       "3         NaN      NaN  /pages/fit-finder  #size_found_email   \n",
       "4  paidsocial      NaN  /pages/fit-finder  #size_found_email   \n",
       "\n",
       "                                               TITLE  \n",
       "0  ThirdLove Fit Finder - Find your Perfect Bra S...  \n",
       "1  ThirdLove Fit Finder - Find your Perfect Bra S...  \n",
       "2  ThirdLove Fit Finder - Find your Perfect Bra S...  \n",
       "3  ThirdLove Fit Finder - Find your Perfect Bra S...  \n",
       "4  ThirdLove Fit Finder - Find your Perfect Bra S...  \n",
       "\n",
       "[5 rows x 21 columns]"
      ]
     },
     "execution_count": 2,
     "metadata": {},
     "output_type": "execute_result"
    }
   ],
   "source": [
    "df = pd.read_csv(\"/Users/ashutoshfolane/Documents/VIBHUTI/Git_Repos/Datasets/TL/fit_finder_sessions.csv\")\n",
    "df.head(5)"
   ]
  },
  {
   "cell_type": "markdown",
   "metadata": {},
   "source": [
    "# Check the shape of the dataframes:"
   ]
  },
  {
   "cell_type": "code",
   "execution_count": 3,
   "metadata": {},
   "outputs": [
    {
     "name": "stdout",
     "output_type": "stream",
     "text": [
      "(533201, 21)\n"
     ]
    }
   ],
   "source": [
    "print(df.shape)"
   ]
  },
  {
   "cell_type": "markdown",
   "metadata": {},
   "source": [
    "# Check NA values:"
   ]
  },
  {
   "cell_type": "code",
   "execution_count": 4,
   "metadata": {},
   "outputs": [
    {
     "data": {
      "text/plain": [
       "USER_ID                   0\n",
       "EVENT_ID                  0\n",
       "SESSION_ID                0\n",
       "EVENT_TIME                0\n",
       "SESSION_TIME              0\n",
       "DATE_SESSION_TIME         0\n",
       "PLATFORM                  0\n",
       "DEVICE_TYPE               0\n",
       "COUNTRY                  45\n",
       "REGION                 7880\n",
       "CITY                  16571\n",
       "REFERRER             222125\n",
       "LANDING_PAGE             24\n",
       "BROWSER                   0\n",
       "UTM_SOURCE           281779\n",
       "UTM_CAMPAIGN         288735\n",
       "UTM_MEDIUM           281870\n",
       "UTM_TERM             463049\n",
       "PATH                      0\n",
       "HASH                      0\n",
       "TITLE                     0\n",
       "dtype: int64"
      ]
     },
     "execution_count": 4,
     "metadata": {},
     "output_type": "execute_result"
    }
   ],
   "source": [
    "missing_val = df.isnull().sum()\n",
    "missing_val"
   ]
  },
  {
   "cell_type": "markdown",
   "metadata": {},
   "source": [
    "## How many total users are there?¶"
   ]
  },
  {
   "cell_type": "code",
   "execution_count": 5,
   "metadata": {},
   "outputs": [
    {
     "data": {
      "text/plain": [
       "533201"
      ]
     },
     "execution_count": 5,
     "metadata": {},
     "output_type": "execute_result"
    }
   ],
   "source": [
    "df['USER_ID'].count()"
   ]
  },
  {
   "cell_type": "code",
   "execution_count": 6,
   "metadata": {},
   "outputs": [
    {
     "data": {
      "text/plain": [
       "422523"
      ]
     },
     "execution_count": 6,
     "metadata": {},
     "output_type": "execute_result"
    }
   ],
   "source": [
    "#unique user count\n",
    "df['USER_ID'].nunique()"
   ]
  },
  {
   "cell_type": "code",
   "execution_count": null,
   "metadata": {},
   "outputs": [],
   "source": []
  }
 ],
 "metadata": {
  "kernelspec": {
   "display_name": "Python 3",
   "language": "python",
   "name": "python3"
  },
  "language_info": {
   "codemirror_mode": {
    "name": "ipython",
    "version": 3
   },
   "file_extension": ".py",
   "mimetype": "text/x-python",
   "name": "python",
   "nbconvert_exporter": "python",
   "pygments_lexer": "ipython3",
   "version": "3.7.7"
  }
 },
 "nbformat": 4,
 "nbformat_minor": 4
}
