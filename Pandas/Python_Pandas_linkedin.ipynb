{
 "cells": [
  {
   "cell_type": "markdown",
   "metadata": {},
   "source": [
    "# Import Libraries"
   ]
  },
  {
   "cell_type": "code",
   "execution_count": 5,
   "metadata": {},
   "outputs": [],
   "source": [
    "import numpy as np\n",
    "import pandas as pd "
   ]
  },
  {
   "cell_type": "code",
   "execution_count": null,
   "metadata": {},
   "outputs": [],
   "source": []
  },
  {
   "cell_type": "code",
   "execution_count": 3,
   "metadata": {},
   "outputs": [
    {
     "data": {
      "text/plain": [
       "array([[0.34463565, 0.7750307 , 0.47005223, 0.85533307, 0.74777208,\n",
       "        0.87644414],\n",
       "       [0.03110332, 0.52008193, 0.54724648, 0.40912058, 0.310083  ,\n",
       "        0.97525533],\n",
       "       [0.45110899, 0.37057858, 0.57605799, 0.3601541 , 0.04889753,\n",
       "        0.99103484],\n",
       "       [0.35327079, 0.99324994, 0.1476207 , 0.56532186, 0.9517132 ,\n",
       "        0.64709684],\n",
       "       [0.5636985 , 0.16145413, 0.26367043, 0.47996197, 0.75868564,\n",
       "        0.22813863],\n",
       "       [0.29279871, 0.25436464, 0.04178619, 0.65439492, 0.25884794,\n",
       "        0.42255535]])"
      ]
     },
     "execution_count": 3,
     "metadata": {},
     "output_type": "execute_result"
    }
   ],
   "source": [
    "np.random.rand(36).reshape((6,6))"
   ]
  },
  {
   "cell_type": "code",
   "execution_count": 6,
   "metadata": {},
   "outputs": [
    {
     "data": {
      "text/html": [
       "<div>\n",
       "<style scoped>\n",
       "    .dataframe tbody tr th:only-of-type {\n",
       "        vertical-align: middle;\n",
       "    }\n",
       "\n",
       "    .dataframe tbody tr th {\n",
       "        vertical-align: top;\n",
       "    }\n",
       "\n",
       "    .dataframe thead th {\n",
       "        text-align: right;\n",
       "    }\n",
       "</style>\n",
       "<table border=\"1\" class=\"dataframe\">\n",
       "  <thead>\n",
       "    <tr style=\"text-align: right;\">\n",
       "      <th></th>\n",
       "      <th>col1</th>\n",
       "      <th>col2</th>\n",
       "      <th>col3</th>\n",
       "      <th>col4</th>\n",
       "      <th>col5</th>\n",
       "      <th>col6</th>\n",
       "    </tr>\n",
       "  </thead>\n",
       "  <tbody>\n",
       "    <tr>\n",
       "      <th>row1</th>\n",
       "      <td>0.338282</td>\n",
       "      <td>0.555686</td>\n",
       "      <td>0.358444</td>\n",
       "      <td>0.260699</td>\n",
       "      <td>0.582986</td>\n",
       "      <td>0.995394</td>\n",
       "    </tr>\n",
       "    <tr>\n",
       "      <th>row2</th>\n",
       "      <td>0.111849</td>\n",
       "      <td>0.907738</td>\n",
       "      <td>0.655572</td>\n",
       "      <td>0.211340</td>\n",
       "      <td>0.061307</td>\n",
       "      <td>0.487696</td>\n",
       "    </tr>\n",
       "    <tr>\n",
       "      <th>row3</th>\n",
       "      <td>0.570034</td>\n",
       "      <td>0.463330</td>\n",
       "      <td>0.695400</td>\n",
       "      <td>0.040782</td>\n",
       "      <td>0.568615</td>\n",
       "      <td>0.129367</td>\n",
       "    </tr>\n",
       "    <tr>\n",
       "      <th>row4</th>\n",
       "      <td>0.958889</td>\n",
       "      <td>0.466784</td>\n",
       "      <td>0.558949</td>\n",
       "      <td>0.151315</td>\n",
       "      <td>0.536333</td>\n",
       "      <td>0.924378</td>\n",
       "    </tr>\n",
       "    <tr>\n",
       "      <th>row5</th>\n",
       "      <td>0.915397</td>\n",
       "      <td>0.500834</td>\n",
       "      <td>0.787744</td>\n",
       "      <td>0.143351</td>\n",
       "      <td>0.061811</td>\n",
       "      <td>0.578931</td>\n",
       "    </tr>\n",
       "    <tr>\n",
       "      <th>row5</th>\n",
       "      <td>0.471154</td>\n",
       "      <td>0.509238</td>\n",
       "      <td>0.545609</td>\n",
       "      <td>0.047768</td>\n",
       "      <td>0.653411</td>\n",
       "      <td>0.160398</td>\n",
       "    </tr>\n",
       "  </tbody>\n",
       "</table>\n",
       "</div>"
      ],
      "text/plain": [
       "          col1      col2      col3      col4      col5      col6\n",
       "row1  0.338282  0.555686  0.358444  0.260699  0.582986  0.995394\n",
       "row2  0.111849  0.907738  0.655572  0.211340  0.061307  0.487696\n",
       "row3  0.570034  0.463330  0.695400  0.040782  0.568615  0.129367\n",
       "row4  0.958889  0.466784  0.558949  0.151315  0.536333  0.924378\n",
       "row5  0.915397  0.500834  0.787744  0.143351  0.061811  0.578931\n",
       "row5  0.471154  0.509238  0.545609  0.047768  0.653411  0.160398"
      ]
     },
     "execution_count": 6,
     "metadata": {},
     "output_type": "execute_result"
    }
   ],
   "source": [
    "df_obj = pd.DataFrame(np.random.rand(36).reshape((6,6)), \n",
    "                      index = ['row1','row2','row3','row4','row5','row5'],\n",
    "                      columns = ['col1','col2','col3','col4','col5','col6'])\n",
    "df_obj"
   ]
  },
  {
   "cell_type": "code",
   "execution_count": null,
   "metadata": {},
   "outputs": [],
   "source": []
  }
 ],
 "metadata": {
  "kernelspec": {
   "display_name": "Python 3",
   "language": "python",
   "name": "python3"
  },
  "language_info": {
   "codemirror_mode": {
    "name": "ipython",
    "version": 3
   },
   "file_extension": ".py",
   "mimetype": "text/x-python",
   "name": "python",
   "nbconvert_exporter": "python",
   "pygments_lexer": "ipython3",
   "version": "3.7.7"
  }
 },
 "nbformat": 4,
 "nbformat_minor": 4
}
