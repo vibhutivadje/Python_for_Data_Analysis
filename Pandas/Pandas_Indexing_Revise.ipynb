{
 "cells": [
  {
   "cell_type": "code",
   "execution_count": 1,
   "metadata": {},
   "outputs": [],
   "source": [
    "#1.Write a Pandas program to display the default index and set a column as an Index in a given dataframe.\n",
    "\n",
    "import pandas as pd\n",
    "df = pd.DataFrame({\n",
    "    'school_code': ['s001','s002','s003','s001','s002','s004'],\n",
    "    'class': ['V', 'V', 'VI', 'VI', 'V', 'VI'],\n",
    "    'name': ['Alberto Franco','Gino Mcneill','Ryan Parkes', 'Eesha Hinton', 'Gino Mcneill', 'David Parkes'],\n",
    "    'date_Of_Birth': ['15/05/2002','17/05/2002','16/02/1999','25/09/1998','11/05/2002','15/09/1997'],\n",
    "    'weight': [35, 32, 33, 30, 31, 32],\n",
    "    'address': ['street1', 'street2', 'street3', 'street1', 'street2', 'street4'],\n",
    "    't_id':['t1', 't2', 't3', 't4', 't5', 't6']})"
   ]
  },
  {
   "cell_type": "code",
   "execution_count": 2,
   "metadata": {},
   "outputs": [
    {
     "data": {
      "text/html": [
       "<div>\n",
       "<style scoped>\n",
       "    .dataframe tbody tr th:only-of-type {\n",
       "        vertical-align: middle;\n",
       "    }\n",
       "\n",
       "    .dataframe tbody tr th {\n",
       "        vertical-align: top;\n",
       "    }\n",
       "\n",
       "    .dataframe thead th {\n",
       "        text-align: right;\n",
       "    }\n",
       "</style>\n",
       "<table border=\"1\" class=\"dataframe\">\n",
       "  <thead>\n",
       "    <tr style=\"text-align: right;\">\n",
       "      <th></th>\n",
       "      <th>school_code</th>\n",
       "      <th>class</th>\n",
       "      <th>name</th>\n",
       "      <th>date_Of_Birth</th>\n",
       "      <th>weight</th>\n",
       "      <th>address</th>\n",
       "      <th>t_id</th>\n",
       "    </tr>\n",
       "  </thead>\n",
       "  <tbody>\n",
       "    <tr>\n",
       "      <th>0</th>\n",
       "      <td>s001</td>\n",
       "      <td>V</td>\n",
       "      <td>Alberto Franco</td>\n",
       "      <td>15/05/2002</td>\n",
       "      <td>35</td>\n",
       "      <td>street1</td>\n",
       "      <td>t1</td>\n",
       "    </tr>\n",
       "    <tr>\n",
       "      <th>1</th>\n",
       "      <td>s002</td>\n",
       "      <td>V</td>\n",
       "      <td>Gino Mcneill</td>\n",
       "      <td>17/05/2002</td>\n",
       "      <td>32</td>\n",
       "      <td>street2</td>\n",
       "      <td>t2</td>\n",
       "    </tr>\n",
       "    <tr>\n",
       "      <th>2</th>\n",
       "      <td>s003</td>\n",
       "      <td>VI</td>\n",
       "      <td>Ryan Parkes</td>\n",
       "      <td>16/02/1999</td>\n",
       "      <td>33</td>\n",
       "      <td>street3</td>\n",
       "      <td>t3</td>\n",
       "    </tr>\n",
       "    <tr>\n",
       "      <th>3</th>\n",
       "      <td>s001</td>\n",
       "      <td>VI</td>\n",
       "      <td>Eesha Hinton</td>\n",
       "      <td>25/09/1998</td>\n",
       "      <td>30</td>\n",
       "      <td>street1</td>\n",
       "      <td>t4</td>\n",
       "    </tr>\n",
       "    <tr>\n",
       "      <th>4</th>\n",
       "      <td>s002</td>\n",
       "      <td>V</td>\n",
       "      <td>Gino Mcneill</td>\n",
       "      <td>11/05/2002</td>\n",
       "      <td>31</td>\n",
       "      <td>street2</td>\n",
       "      <td>t5</td>\n",
       "    </tr>\n",
       "  </tbody>\n",
       "</table>\n",
       "</div>"
      ],
      "text/plain": [
       "  school_code class            name date_Of_Birth  weight  address t_id\n",
       "0        s001     V  Alberto Franco    15/05/2002      35  street1   t1\n",
       "1        s002     V    Gino Mcneill    17/05/2002      32  street2   t2\n",
       "2        s003    VI     Ryan Parkes    16/02/1999      33  street3   t3\n",
       "3        s001    VI    Eesha Hinton    25/09/1998      30  street1   t4\n",
       "4        s002     V    Gino Mcneill    11/05/2002      31  street2   t5"
      ]
     },
     "execution_count": 2,
     "metadata": {},
     "output_type": "execute_result"
    }
   ],
   "source": [
    "df.head()"
   ]
  },
  {
   "cell_type": "code",
   "execution_count": 5,
   "metadata": {},
   "outputs": [
    {
     "name": "stdout",
     "output_type": "stream",
     "text": [
      "            class            name date_Of_Birth  weight  address t_id\n",
      "school_code                                                          \n",
      "s001            V  Alberto Franco    15/05/2002      35  street1   t1\n",
      "s002            V    Gino Mcneill    17/05/2002      32  street2   t2\n",
      "s003           VI     Ryan Parkes    16/02/1999      33  street3   t3\n",
      "s001           VI    Eesha Hinton    25/09/1998      30  street1   t4\n",
      "s002            V    Gino Mcneill    11/05/2002      31  street2   t5\n",
      "s004           VI    David Parkes    15/09/1997      32  street4   t6\n"
     ]
    }
   ],
   "source": [
    "df1 = df.set_index('school_code')\n",
    "print(df1)"
   ]
  },
  {
   "cell_type": "code",
   "execution_count": 6,
   "metadata": {},
   "outputs": [
    {
     "name": "stdout",
     "output_type": "stream",
     "text": [
      "     school_code class            name date_Of_Birth  weight  address\n",
      "t_id                                                                 \n",
      "t1          s001     V  Alberto Franco    15/05/2002      35  street1\n",
      "t2          s002     V    Gino Mcneill    17/05/2002      32  street2\n",
      "t3          s003    VI     Ryan Parkes    16/02/1999      33  street3\n",
      "t4          s001    VI    Eesha Hinton    25/09/1998      30  street1\n",
      "t5          s002     V    Gino Mcneill    11/05/2002      31  street2\n",
      "t6          s004    VI    David Parkes    15/09/1997      32  street4\n"
     ]
    }
   ],
   "source": [
    "df2 = df.set_index('t_id')\n",
    "print(df2)\n"
   ]
  },
  {
   "cell_type": "code",
   "execution_count": 7,
   "metadata": {},
   "outputs": [
    {
     "name": "stdout",
     "output_type": "stream",
     "text": [
      "                 class            name date_Of_Birth  weight  address\n",
      "t_id school_code                                                     \n",
      "t1   s001            V  Alberto Franco    15/05/2002      35  street1\n",
      "t2   s002            V    Gino Mcneill    17/05/2002      32  street2\n",
      "t3   s003           VI     Ryan Parkes    16/02/1999      33  street3\n",
      "t4   s001           VI    Eesha Hinton    25/09/1998      30  street1\n",
      "t5   s002            V    Gino Mcneill    11/05/2002      31  street2\n",
      "t6   s004           VI    David Parkes    15/09/1997      32  street4\n"
     ]
    }
   ],
   "source": [
    "#2.Write a Pandas program to create a multi Index frame using two columns and using an Index and a column.\n",
    "\n",
    "multi_df1 = df.set_index(['t_id', 'school_code'])\n",
    "print(multi_df1)"
   ]
  },
  {
   "cell_type": "code",
   "execution_count": 8,
   "metadata": {},
   "outputs": [
    {
     "name": "stdout",
     "output_type": "stream",
     "text": [
      "       school_code class            name date_Of_Birth  weight  address\n",
      "  t_id                                                                 \n",
      "0 t1          s001     V  Alberto Franco    15/05/2002      35  street1\n",
      "1 t2          s002     V    Gino Mcneill    17/05/2002      32  street2\n",
      "2 t3          s003    VI     Ryan Parkes    16/02/1999      33  street3\n",
      "3 t4          s001    VI    Eesha Hinton    25/09/1998      30  street1\n",
      "4 t5          s002     V    Gino Mcneill    11/05/2002      31  street2\n",
      "5 t6          s004    VI    David Parkes    15/09/1997      32  street4\n"
     ]
    }
   ],
   "source": [
    "multi_df2 = df.set_index([pd.Index([0, 1, 2, 3, 4, 5]), 't_id'])\n",
    "print(multi_df2)"
   ]
  },
  {
   "cell_type": "code",
   "execution_count": 9,
   "metadata": {},
   "outputs": [
    {
     "name": "stdout",
     "output_type": "stream",
     "text": [
      "     school_code class            name date_Of_Birth  weight  address\n",
      "t_id                                                                 \n",
      "t1          s001     V  Alberto Franco    15/05/2002      35  street1\n",
      "t2          s002     V    Gino Mcneill    17/05/2002      32  street2\n",
      "t3          s003    VI     Ryan Parkes    16/02/1999      33  street3\n",
      "t4          s001    VI    Eesha Hinton    25/09/1998      30  street1\n",
      "t5          s002     V    Gino Mcneill    11/05/2002      31  street2\n",
      "t6          s004    VI    David Parkes    15/09/1997      32  street4\n"
     ]
    }
   ],
   "source": [
    "#3.Write a Pandas program to display the default index and set a column as an Index in a given dataframe and \n",
    "#then reset the index.\n",
    "set_index_df1 = df.set_index('t_id')\n",
    "print(set_index_df1)"
   ]
  },
  {
   "cell_type": "code",
   "execution_count": 10,
   "metadata": {},
   "outputs": [
    {
     "name": "stdout",
     "output_type": "stream",
     "text": [
      "  school_code class            name date_Of_Birth  weight  address t_id\n",
      "0        s001     V  Alberto Franco    15/05/2002      35  street1   t1\n",
      "1        s002     V    Gino Mcneill    17/05/2002      32  street2   t2\n",
      "2        s003    VI     Ryan Parkes    16/02/1999      33  street3   t3\n",
      "3        s001    VI    Eesha Hinton    25/09/1998      30  street1   t4\n",
      "4        s002     V    Gino Mcneill    11/05/2002      31  street2   t5\n",
      "5        s004    VI    David Parkes    15/09/1997      32  street4   t6\n"
     ]
    }
   ],
   "source": [
    "reset_index_df2 = df1.reset_index(inplace=False)\n",
    "print(reset_index_df2)"
   ]
  },
  {
   "cell_type": "code",
   "execution_count": 12,
   "metadata": {},
   "outputs": [
    {
     "name": "stdout",
     "output_type": "stream",
     "text": [
      "    school_code class            name date_Of_Birth   weight  address\n",
      "0.1        s001     V  Alberto Franco     15/05/2002      35  street1\n",
      "0.2        s002     V    Gino Mcneill     17/05/2002      32  street2\n",
      "0.3        s003    VI     Ryan Parkes     16/02/1999      33  street3\n",
      "0.4        s001    VI    Eesha Hinton     25/09/1998      30  street1\n",
      "0.5        s002     V    Gino Mcneill     11/05/2002      31  street2\n",
      "0.6        s004    VI    David Parkes     15/09/1997      32  street4\n"
     ]
    }
   ],
   "source": [
    "#4. Write a Pandas program to create an index labels by using 64-bit integers, using floating-point numbers in a \n",
    "#given dataframe.\n",
    "df_f64 = pd.DataFrame({\n",
    "    'school_code': ['s001','s002','s003','s001','s002','s004'],\n",
    "    'class': ['V', 'V', 'VI', 'VI', 'V', 'VI'],\n",
    "    'name': ['Alberto Franco','Gino Mcneill','Ryan Parkes', 'Eesha Hinton', 'Gino Mcneill', 'David Parkes'],\n",
    "    'date_Of_Birth ': ['15/05/2002','17/05/2002','16/02/1999','25/09/1998','11/05/2002','15/09/1997'],\n",
    "    'weight': [35, 32, 33, 30, 31, 32],\n",
    "    'address': ['street1', 'street2', 'street3', 'street1', 'street2', 'street4']},\n",
    "    index=[.1, .2, .3, .4, .5, .6])\n",
    "print(df_f64)"
   ]
  },
  {
   "cell_type": "code",
   "execution_count": 13,
   "metadata": {},
   "outputs": [
    {
     "name": "stdout",
     "output_type": "stream",
     "text": [
      "Create an Interval Index using IntervalIndex.from_breaks:\n",
      "            X\n",
      "(0.0, 0.5]  1\n",
      "(0.5, 1.0]  2\n",
      "(1.0, 1.5]  3\n",
      "(1.5, 2.0]  4\n",
      "(2.0, 2.5]  5\n",
      "(2.5, 3.0]  6\n",
      "(3.0, 3.5]  7\n",
      "IntervalIndex([(0.0, 0.5], (0.5, 1.0], (1.0, 1.5], (1.5, 2.0], (2.0, 2.5], (2.5, 3.0], (3.0, 3.5]],\n",
      "              closed='right',\n",
      "              dtype='interval[float64]')\n",
      "\n",
      "Create an Interval Index using IntervalIndex.from_tuples:\n",
      "            X\n",
      "(0.0, 0.5]  1\n",
      "(0.5, 1.0]  2\n",
      "(1.0, 1.5]  3\n",
      "(1.5, 2.0]  4\n",
      "(2.0, 2.5]  5\n",
      "(2.5, 3.0]  6\n",
      "(3.0, 3.5]  7\n",
      "IntervalIndex([(0.0, 0.5], (0.5, 1.0], (1.0, 1.5], (1.5, 2.0], (2.0, 2.5], (2.5, 3.0], (3.0, 3.5]],\n",
      "              closed='right',\n",
      "              dtype='interval[float64]')\n",
      "\n",
      "Create an Interval Index using IntervalIndex.from_arrays:\n",
      "            X\n",
      "(0.0, 0.5]  1\n",
      "(0.5, 1.0]  2\n",
      "(1.0, 1.5]  3\n",
      "(1.5, 2.0]  4\n",
      "(2.0, 2.5]  5\n",
      "(2.5, 3.0]  6\n",
      "(3.0, 3.5]  7\n",
      "IntervalIndex([(0.0, 0.5], (0.5, 1.0], (1.0, 1.5], (1.5, 2.0], (2.0, 2.5], (2.5, 3.0], (3.0, 3.5]],\n",
      "              closed='right',\n",
      "              dtype='interval[float64]')\n"
     ]
    }
   ],
   "source": [
    "#5. Write a Pandas program to create a DataFrame using intervals as an index.\n",
    "print(\"Create an Interval Index using IntervalIndex.from_breaks:\")\n",
    "df_interval = pd.DataFrame({\"X\":[1, 2, 3, 4, 5, 6, 7]},\n",
    "                            index = pd.IntervalIndex.from_breaks(\n",
    "                            [0, 0.5, 1.0, 1.5, 2.0, 2.5, 3, 3.5]))    \n",
    "print(df_interval)\n",
    "print(df_interval.index)\n",
    "\n",
    "print(\"\\nCreate an Interval Index using IntervalIndex.from_tuples:\")\n",
    "df_interval = pd.DataFrame({\"X\":[1, 2, 3, 4, 5, 6, 7]},             \n",
    "                            index = pd.IntervalIndex.from_tuples(\n",
    "                            [(0, .5), (.5, 1), (1, 1.5), (1.5, 2), (2, 2.5), (2.5, 3), (3, 3.5)]))\n",
    "print(df_interval)\n",
    "print(df_interval.index)\n",
    "\n",
    "print(\"\\nCreate an Interval Index using IntervalIndex.from_arrays:\")\n",
    "df_interval = pd.DataFrame({\"X\":[1, 2, 3, 4, 5, 6, 7]},             \n",
    "                            index = pd.IntervalIndex.from_arrays(\n",
    "                            [0, .5, 1, 1.5, 2, 2.5, 3], [.5, 1, 1.5, 2, 2.5, 3, 3.5]))\n",
    "print(df_interval)\n",
    "print(df_interval.index) "
   ]
  },
  {
   "cell_type": "code",
   "execution_count": 17,
   "metadata": {},
   "outputs": [
    {
     "name": "stdout",
     "output_type": "stream",
     "text": [
      "                     Sale_amt\n",
      "2020-05-12 07:10:10       100\n",
      "2020-05-12 07:10:11       110\n",
      "2020-05-12 07:10:12       117\n",
      "2020-05-12 07:10:13       150\n",
      "2020-05-12 07:10:14       112\n",
      "2020-05-12 07:10:15        99\n",
      "2020-05-12 07:10:16       129\n",
      "2020-05-12 07:10:17       135\n",
      "2020-05-12 07:10:18       140\n",
      "2020-05-12 07:10:19       150\n"
     ]
    }
   ],
   "source": [
    "#6.Write a Pandas program to create a dataframe indexing by date and time.\n",
    "\n",
    "dt_range = pd.date_range(start ='2020-05-12 07:10:10', freq ='S', periods = 10) \n",
    "df_dt = pd.DataFrame({\"Sale_amt\":[100, 110, 117, 150, 112, 99, 129, 135, 140, 150]},\n",
    "                            index = dt_range)\n",
    "print(df_dt)"
   ]
  },
  {
   "cell_type": "code",
   "execution_count": 14,
   "metadata": {},
   "outputs": [
    {
     "name": "stdout",
     "output_type": "stream",
     "text": [
      "Original DataFrame:\n",
      "   school_code class            name date_Of_Birth  weight  address\n",
      "t1        s001     V  Alberto Franco    15/05/2002      35  street1\n",
      "t2        s002     V    Gino Mcneill    17/05/2002      32  street2\n",
      "t3        s003    VI     Ryan Parkes    16/02/1999      33  street3\n",
      "t4        s001    VI    Eesha Hinton    25/09/1998      30  street1\n",
      "t5        s002     V    Gino Mcneill    11/05/2002      31  street2\n",
      "t6        s004    VI    David Parkes    15/09/1997      32  street4\n"
     ]
    }
   ],
   "source": [
    "#7.Write a Pandas program to create a dataframe and set a title or name of the index column.\n",
    "n_df = pd.DataFrame({\n",
    "    'school_code': ['s001','s002','s003','s001','s002','s004'],\n",
    "    'class': ['V', 'V', 'VI', 'VI', 'V', 'VI'],\n",
    "    'name': ['Alberto Franco','Gino Mcneill','Ryan Parkes', 'Eesha Hinton', 'Gino Mcneill', 'David Parkes'],\n",
    "    'date_Of_Birth': ['15/05/2002','17/05/2002','16/02/1999','25/09/1998','11/05/2002','15/09/1997'],\n",
    "    'weight': [35, 32, 33, 30, 31, 32],\n",
    "    'address': ['street1', 'street2', 'street3', 'street1', 'street2', 'street4']},\n",
    "                                index = ['t1', 't2', 't3', 't4', 't5', 't6'])\n",
    "print(\"Original DataFrame:\")\n",
    "print(n_df)\n"
   ]
  },
  {
   "cell_type": "code",
   "execution_count": 16,
   "metadata": {},
   "outputs": [
    {
     "name": "stdout",
     "output_type": "stream",
     "text": [
      "           school_code class            name date_Of_Birth  weight  address\n",
      "Index_name                                                                 \n",
      "t1                s001     V  Alberto Franco    15/05/2002      35  street1\n",
      "t2                s002     V    Gino Mcneill    17/05/2002      32  street2\n",
      "t3                s003    VI     Ryan Parkes    16/02/1999      33  street3\n",
      "t4                s001    VI    Eesha Hinton    25/09/1998      30  street1\n",
      "t5                s002     V    Gino Mcneill    11/05/2002      31  street2\n",
      "t6                s004    VI    David Parkes    15/09/1997      32  street4\n"
     ]
    }
   ],
   "source": [
    "n_df.index.name = 'Index_name'\n",
    "print(n_df)"
   ]
  },
  {
   "cell_type": "code",
   "execution_count": 18,
   "metadata": {},
   "outputs": [
    {
     "name": "stdout",
     "output_type": "stream",
     "text": [
      "           school_code class            name date_Of_Birth  weight  address\n",
      "Index_name                                                                 \n",
      "t1                s001     V  Alberto Franco    15/05/2002      35  street1\n",
      "t2                s002     V    Gino Mcneill    17/05/2002      32  street2\n",
      "t3                s003    VI     Ryan Parkes    16/02/1999      33  street3\n",
      "t4                s001    VI    Eesha Hinton    25/09/1998      30  street1\n",
      "t5                s002     V    Gino Mcneill    11/05/2002      31  street2\n",
      "t6                s005    VI    David Parkes    15/09/1997      32  street4\n"
     ]
    }
   ],
   "source": [
    "#8.Write a Pandas program to set value in a specific cell in a given dataframe using index.\n",
    "n_df.at['t6', 'school_code'] = 's005'\n",
    "print(n_df)"
   ]
  },
  {
   "cell_type": "code",
   "execution_count": 19,
   "metadata": {},
   "outputs": [
    {
     "name": "stdout",
     "output_type": "stream",
     "text": [
      "  Index_name school_code class            name date_Of_Birth  weight  address\n",
      "0         t1        s001     V  Alberto Franco    15/05/2002      35  street1\n",
      "1         t2        s002     V    Gino Mcneill    17/05/2002      32  street2\n",
      "2         t3        s003    VI     Ryan Parkes    16/02/1999      33  street3\n",
      "3         t4        s001    VI    Eesha Hinton    25/09/1998      30  street1\n",
      "4         t5        s002     V    Gino Mcneill    11/05/2002      31  street2\n",
      "5         t6        s005    VI    David Parkes    15/09/1997      32  street4\n"
     ]
    }
   ],
   "source": [
    "#9.Write a Pandas program to convert index of a given dataframe into a column.\n",
    "n_df.reset_index(level=0, inplace=True)\n",
    "print(n_df)\n"
   ]
  },
  {
   "cell_type": "code",
   "execution_count": 21,
   "metadata": {},
   "outputs": [
    {
     "name": "stdout",
     "output_type": "stream",
     "text": [
      "                                        name date_Of_Birth  weight  address\n",
      "Index_name school_code class                                               \n",
      "t1         s001        V      Alberto Franco    15/05/2002      35  street1\n",
      "t2         s002        V        Gino Mcneill    17/05/2002      32  street2\n",
      "t3         s003        VI        Ryan Parkes    16/02/1999      33  street3\n",
      "t4         s001        VI       Eesha Hinton    25/09/1998      30  street1\n",
      "t5         s002        V        Gino Mcneill    11/05/2002      31  street2\n",
      "t6         s005        VI       David Parkes    15/09/1997      32  street4\n"
     ]
    }
   ],
   "source": [
    "#10.Write a Pandas program to convert 1st and 3rd levels in the index into columns from a multiple level of index frame of a given dataframe.\n",
    "\n",
    "n_df = n_df.set_index(['Index_name', 'school_code', 'class'])\n",
    "print(n_df)"
   ]
  },
  {
   "cell_type": "code",
   "execution_count": 23,
   "metadata": {},
   "outputs": [
    {
     "name": "stdout",
     "output_type": "stream",
     "text": [
      "            Index_name class            name date_Of_Birth  weight  address\n",
      "school_code                                                                \n",
      "s001                t1     V  Alberto Franco    15/05/2002      35  street1\n",
      "s002                t2     V    Gino Mcneill    17/05/2002      32  street2\n",
      "s003                t3    VI     Ryan Parkes    16/02/1999      33  street3\n",
      "s001                t4    VI    Eesha Hinton    25/09/1998      30  street1\n",
      "s002                t5     V    Gino Mcneill    11/05/2002      31  street2\n",
      "s005                t6    VI    David Parkes    15/09/1997      32  street4\n"
     ]
    }
   ],
   "source": [
    "n_df = n_df.reset_index(level=['Index_name', 'class'])\n",
    "print(n_df)"
   ]
  },
  {
   "cell_type": "code",
   "execution_count": null,
   "metadata": {},
   "outputs": [],
   "source": []
  }
 ],
 "metadata": {
  "kernelspec": {
   "display_name": "Python 3",
   "language": "python",
   "name": "python3"
  },
  "language_info": {
   "codemirror_mode": {
    "name": "ipython",
    "version": 3
   },
   "file_extension": ".py",
   "mimetype": "text/x-python",
   "name": "python",
   "nbconvert_exporter": "python",
   "pygments_lexer": "ipython3",
   "version": "3.7.7"
  }
 },
 "nbformat": 4,
 "nbformat_minor": 4
}
