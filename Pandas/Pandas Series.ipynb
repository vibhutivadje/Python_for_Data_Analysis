{
 "cells": [
  {
   "cell_type": "markdown",
   "id": "68d4c572",
   "metadata": {},
   "source": [
    "Write a Pandas program to convert a Panda module Series to Python list and it’s type."
   ]
  },
  {
   "cell_type": "code",
   "execution_count": 11,
   "id": "0f0ff6cb",
   "metadata": {},
   "outputs": [],
   "source": [
    "import pandas as pd"
   ]
  },
  {
   "cell_type": "code",
   "execution_count": 12,
   "id": "343a15ad",
   "metadata": {},
   "outputs": [
    {
     "name": "stdout",
     "output_type": "stream",
     "text": [
      "Pandas Series and its type\n"
     ]
    }
   ],
   "source": [
    "ds = pd.Series([2,4,6,8,10])\n",
    "print(\"Pandas Series and its type\")"
   ]
  },
  {
   "cell_type": "code",
   "execution_count": 13,
   "id": "12f85732",
   "metadata": {},
   "outputs": [
    {
     "name": "stdout",
     "output_type": "stream",
     "text": [
      "0     2\n",
      "1     4\n",
      "2     6\n",
      "3     8\n",
      "4    10\n",
      "dtype: int64\n"
     ]
    }
   ],
   "source": [
    "print(ds)"
   ]
  },
  {
   "cell_type": "code",
   "execution_count": 14,
   "id": "22f226bd",
   "metadata": {},
   "outputs": [
    {
     "name": "stdout",
     "output_type": "stream",
     "text": [
      "<class 'pandas.core.series.Series'>\n"
     ]
    }
   ],
   "source": [
    "print(type(ds))"
   ]
  },
  {
   "cell_type": "code",
   "execution_count": 15,
   "id": "1a6503b1",
   "metadata": {},
   "outputs": [
    {
     "name": "stdout",
     "output_type": "stream",
     "text": [
      "Convert Pandas Series to Python list\n",
      "[2, 4, 6, 8, 10]\n"
     ]
    }
   ],
   "source": [
    "print(\"Convert Pandas Series to Python list\")\n",
    "print(ds.tolist())"
   ]
  },
  {
   "cell_type": "code",
   "execution_count": 16,
   "id": "640afc59",
   "metadata": {},
   "outputs": [
    {
     "name": "stdout",
     "output_type": "stream",
     "text": [
      "<class 'list'>\n"
     ]
    }
   ],
   "source": [
    "print(type(ds.tolist()))"
   ]
  },
  {
   "cell_type": "markdown",
   "id": "6c2490f5",
   "metadata": {},
   "source": [
    "Write a Pandas program to add, subtract, multiple and divide two Pandas Series."
   ]
  },
  {
   "cell_type": "markdown",
   "id": "c7266315",
   "metadata": {},
   "source": [
    "s1=[2, 4, 6, 8, 10], \n",
    "s2=[1, 3, 5, 7, 9]"
   ]
  },
  {
   "cell_type": "code",
   "execution_count": 20,
   "id": "dd63c0ed",
   "metadata": {},
   "outputs": [
    {
     "name": "stdout",
     "output_type": "stream",
     "text": [
      "Addition of two series:\n",
      "0     3\n",
      "1     7\n",
      "2    11\n",
      "3    15\n",
      "4    19\n",
      "dtype: int64\n",
      "subtraction of two series:\n",
      "0    1\n",
      "1    1\n",
      "2    1\n",
      "3    1\n",
      "4    1\n",
      "dtype: int64\n",
      "subtraction of two series:\n",
      "0     2\n",
      "1    12\n",
      "2    30\n",
      "3    56\n",
      "4    90\n",
      "dtype: int64\n",
      "subtraction of two series:\n",
      "0    2.000000\n",
      "1    1.333333\n",
      "2    1.200000\n",
      "3    1.142857\n",
      "4    1.111111\n",
      "dtype: float64\n"
     ]
    }
   ],
   "source": [
    "ds1=pd.Series([2, 4, 6, 8, 10])\n",
    "ds2=pd.Series([1, 3, 5, 7, 9])\n",
    "\n",
    "ds3 = ds1+ds2\n",
    "print(\"Addition of two series:\")\n",
    "print(ds3)\n",
    "\n",
    "ds4 = ds1-ds2\n",
    "print(\"subtraction of two series:\")\n",
    "print(ds4)\n",
    "\n",
    "ds5 = ds1*ds2\n",
    "print(\"subtraction of two series:\")\n",
    "print(ds5)\n",
    "\n",
    "ds6 = ds1/ds2\n",
    "print(\"subtraction of two series:\")\n",
    "print(ds6)"
   ]
  },
  {
   "cell_type": "code",
   "execution_count": 22,
   "id": "6acc1ce3",
   "metadata": {},
   "outputs": [
    {
     "name": "stdout",
     "output_type": "stream",
     "text": [
      "Original DataFrame\n",
      "   col1  col2  col3\n",
      "0     1     4     7\n",
      "1     2     5     5\n",
      "2     3     6     8\n",
      "3     4     9    12\n",
      "4     7     5     1\n",
      "5    11     0    11\n"
     ]
    }
   ],
   "source": [
    "d = {'col1': [1, 2, 3, 4, 7, 11], 'col2': [4, 5, 6, 9, 5, 0], 'col3': [7, 5, 8, 12, 1,11]}\n",
    "df = pd.DataFrame(data=d)\n",
    "print(\"Original DataFrame\")\n",
    "print(df)"
   ]
  },
  {
   "cell_type": "code",
   "execution_count": 25,
   "id": "b70c1904",
   "metadata": {},
   "outputs": [
    {
     "data": {
      "text/plain": [
       "0     1\n",
       "1     2\n",
       "2     3\n",
       "3     4\n",
       "4     7\n",
       "5    11\n",
       "Name: col1, dtype: int64"
      ]
     },
     "execution_count": 25,
     "metadata": {},
     "output_type": "execute_result"
    }
   ],
   "source": [
    "s1 = pd.Series(df['col1'])\n",
    "s1"
   ]
  },
  {
   "cell_type": "code",
   "execution_count": 26,
   "id": "bc50af19",
   "metadata": {},
   "outputs": [
    {
     "data": {
      "text/plain": [
       "pandas.core.series.Series"
      ]
     },
     "execution_count": 26,
     "metadata": {},
     "output_type": "execute_result"
    }
   ],
   "source": [
    "type(s1)"
   ]
  },
  {
   "cell_type": "markdown",
   "id": "8829d9cd",
   "metadata": {},
   "source": [
    "Write a Pandas program to convert a given Series to an array.\n",
    "\n"
   ]
  },
  {
   "cell_type": "code",
   "execution_count": null,
   "id": "e515be3e",
   "metadata": {},
   "outputs": [],
   "source": []
  }
 ],
 "metadata": {
  "kernelspec": {
   "display_name": "Python 3 (ipykernel)",
   "language": "python",
   "name": "python3"
  },
  "language_info": {
   "codemirror_mode": {
    "name": "ipython",
    "version": 3
   },
   "file_extension": ".py",
   "mimetype": "text/x-python",
   "name": "python",
   "nbconvert_exporter": "python",
   "pygments_lexer": "ipython3",
   "version": "3.9.7"
  }
 },
 "nbformat": 4,
 "nbformat_minor": 5
}
