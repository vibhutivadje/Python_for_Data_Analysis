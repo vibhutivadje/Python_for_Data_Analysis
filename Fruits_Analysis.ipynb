{
 "cells": [
  {
   "cell_type": "code",
   "execution_count": 1,
   "metadata": {},
   "outputs": [],
   "source": [
    "import pandas as pd\n",
    "import sklearn as sk\n",
    "import numpy as np\n",
    "import seaborn as sns\n",
    "import matplotlib\n",
    "import matplotlib.pyplot as plt\n",
    "from matplotlib import rcParams\n",
    "%matplotlib inline\n",
    "\n",
    "import os"
   ]
  },
  {
   "cell_type": "code",
   "execution_count": 8,
   "metadata": {},
   "outputs": [],
   "source": [
    "fruits_df = pd.read_csv('/Users/ashutoshfolane/Documents/VIBHUTI/Git_Repos/Datasets/fruits_new.csv')"
   ]
  },
  {
   "cell_type": "code",
   "execution_count": 9,
   "metadata": {},
   "outputs": [
    {
     "data": {
      "text/html": [
       "<div>\n",
       "<style scoped>\n",
       "    .dataframe tbody tr th:only-of-type {\n",
       "        vertical-align: middle;\n",
       "    }\n",
       "\n",
       "    .dataframe tbody tr th {\n",
       "        vertical-align: top;\n",
       "    }\n",
       "\n",
       "    .dataframe thead th {\n",
       "        text-align: right;\n",
       "    }\n",
       "</style>\n",
       "<table border=\"1\" class=\"dataframe\">\n",
       "  <thead>\n",
       "    <tr style=\"text-align: right;\">\n",
       "      <th></th>\n",
       "      <th>name</th>\n",
       "      <th>age</th>\n",
       "      <th>type</th>\n",
       "      <th>fruits</th>\n",
       "    </tr>\n",
       "  </thead>\n",
       "  <tbody>\n",
       "    <tr>\n",
       "      <th>0</th>\n",
       "      <td>tammy</td>\n",
       "      <td>6</td>\n",
       "      <td>Fruit</td>\n",
       "      <td>[\"banana\", \"mango\",\"orange\",\"watermelon\"]</td>\n",
       "    </tr>\n",
       "    <tr>\n",
       "      <th>1</th>\n",
       "      <td>bonny</td>\n",
       "      <td>8</td>\n",
       "      <td>Fruit</td>\n",
       "      <td>[\"apple\", \"pear\", \"peach\"]</td>\n",
       "    </tr>\n",
       "    <tr>\n",
       "      <th>2</th>\n",
       "      <td>helga</td>\n",
       "      <td>8</td>\n",
       "      <td>non-f</td>\n",
       "      <td>[\"\"]</td>\n",
       "    </tr>\n",
       "    <tr>\n",
       "      <th>3</th>\n",
       "      <td>tom</td>\n",
       "      <td>10</td>\n",
       "      <td>Fruit</td>\n",
       "      <td>[\"banana\",\"maracuja\",\"watermelon\",\"apple\",\"pin...</td>\n",
       "    </tr>\n",
       "    <tr>\n",
       "      <th>4</th>\n",
       "      <td>jerome</td>\n",
       "      <td>7</td>\n",
       "      <td>non-f</td>\n",
       "      <td>[\"strawberry\",\"raspberry\",\"blueberry\"]</td>\n",
       "    </tr>\n",
       "  </tbody>\n",
       "</table>\n",
       "</div>"
      ],
      "text/plain": [
       "     name  age   type                                             fruits\n",
       "0   tammy    6  Fruit          [\"banana\", \"mango\",\"orange\",\"watermelon\"]\n",
       "1   bonny    8  Fruit                         [\"apple\", \"pear\", \"peach\"]\n",
       "2   helga    8  non-f                                               [\"\"]\n",
       "3     tom   10  Fruit  [\"banana\",\"maracuja\",\"watermelon\",\"apple\",\"pin...\n",
       "4  jerome    7  non-f             [\"strawberry\",\"raspberry\",\"blueberry\"]"
      ]
     },
     "execution_count": 9,
     "metadata": {},
     "output_type": "execute_result"
    }
   ],
   "source": [
    "fruits_df.head()"
   ]
  },
  {
   "cell_type": "code",
   "execution_count": 10,
   "metadata": {},
   "outputs": [],
   "source": [
    "fruits_df= fruits_df[fruits_df['type']!='non-f']"
   ]
  },
  {
   "cell_type": "code",
   "execution_count": 11,
   "metadata": {},
   "outputs": [
    {
     "data": {
      "text/html": [
       "<div>\n",
       "<style scoped>\n",
       "    .dataframe tbody tr th:only-of-type {\n",
       "        vertical-align: middle;\n",
       "    }\n",
       "\n",
       "    .dataframe tbody tr th {\n",
       "        vertical-align: top;\n",
       "    }\n",
       "\n",
       "    .dataframe thead th {\n",
       "        text-align: right;\n",
       "    }\n",
       "</style>\n",
       "<table border=\"1\" class=\"dataframe\">\n",
       "  <thead>\n",
       "    <tr style=\"text-align: right;\">\n",
       "      <th></th>\n",
       "      <th>name</th>\n",
       "      <th>age</th>\n",
       "      <th>type</th>\n",
       "      <th>fruits</th>\n",
       "    </tr>\n",
       "  </thead>\n",
       "  <tbody>\n",
       "    <tr>\n",
       "      <th>0</th>\n",
       "      <td>tammy</td>\n",
       "      <td>6</td>\n",
       "      <td>Fruit</td>\n",
       "      <td>[\"banana\", \"mango\",\"orange\",\"watermelon\"]</td>\n",
       "    </tr>\n",
       "    <tr>\n",
       "      <th>1</th>\n",
       "      <td>bonny</td>\n",
       "      <td>8</td>\n",
       "      <td>Fruit</td>\n",
       "      <td>[\"apple\", \"pear\", \"peach\"]</td>\n",
       "    </tr>\n",
       "    <tr>\n",
       "      <th>3</th>\n",
       "      <td>tom</td>\n",
       "      <td>10</td>\n",
       "      <td>Fruit</td>\n",
       "      <td>[\"banana\",\"maracuja\",\"watermelon\",\"apple\",\"pin...</td>\n",
       "    </tr>\n",
       "    <tr>\n",
       "      <th>5</th>\n",
       "      <td>hans</td>\n",
       "      <td>9</td>\n",
       "      <td>Fruit</td>\n",
       "      <td>[\"blueberry\",\"watermelon\",\"apple\",\"raspberry\"]</td>\n",
       "    </tr>\n",
       "    <tr>\n",
       "      <th>6</th>\n",
       "      <td>lisa</td>\n",
       "      <td>10</td>\n",
       "      <td>Fruit</td>\n",
       "      <td>[\"mango\", \"pineapple\", \"orange\"]</td>\n",
       "    </tr>\n",
       "  </tbody>\n",
       "</table>\n",
       "</div>"
      ],
      "text/plain": [
       "    name  age   type                                             fruits\n",
       "0  tammy    6  Fruit          [\"banana\", \"mango\",\"orange\",\"watermelon\"]\n",
       "1  bonny    8  Fruit                         [\"apple\", \"pear\", \"peach\"]\n",
       "3    tom   10  Fruit  [\"banana\",\"maracuja\",\"watermelon\",\"apple\",\"pin...\n",
       "5   hans    9  Fruit     [\"blueberry\",\"watermelon\",\"apple\",\"raspberry\"]\n",
       "6   lisa   10  Fruit                   [\"mango\", \"pineapple\", \"orange\"]"
      ]
     },
     "execution_count": 11,
     "metadata": {},
     "output_type": "execute_result"
    }
   ],
   "source": [
    "fruits_df.head()"
   ]
  },
  {
   "cell_type": "code",
   "execution_count": null,
   "metadata": {},
   "outputs": [],
   "source": [
    "def filter(text)\n",
    "    for i in text:\n",
    "        if i != \"apple\":\n",
    "            text.append(i)\n",
    "    return text\n",
    "filter(text)"
   ]
  },
  {
   "cell_type": "code",
   "execution_count": 14,
   "metadata": {},
   "outputs": [
    {
     "data": {
      "text/html": [
       "<div>\n",
       "<style scoped>\n",
       "    .dataframe tbody tr th:only-of-type {\n",
       "        vertical-align: middle;\n",
       "    }\n",
       "\n",
       "    .dataframe tbody tr th {\n",
       "        vertical-align: top;\n",
       "    }\n",
       "\n",
       "    .dataframe thead th {\n",
       "        text-align: right;\n",
       "    }\n",
       "</style>\n",
       "<table border=\"1\" class=\"dataframe\">\n",
       "  <thead>\n",
       "    <tr style=\"text-align: right;\">\n",
       "      <th></th>\n",
       "      <th>name</th>\n",
       "      <th>age</th>\n",
       "      <th>type</th>\n",
       "      <th>fruits</th>\n",
       "    </tr>\n",
       "  </thead>\n",
       "  <tbody>\n",
       "    <tr>\n",
       "      <th>0</th>\n",
       "      <td>tammy</td>\n",
       "      <td>6</td>\n",
       "      <td>Fruit</td>\n",
       "      <td>[\"banana\", \"mango\",\"orange\",\"watermelon\"]</td>\n",
       "    </tr>\n",
       "  </tbody>\n",
       "</table>\n",
       "</div>"
      ],
      "text/plain": [
       "    name  age   type                                     fruits\n",
       "0  tammy    6  Fruit  [\"banana\", \"mango\",\"orange\",\"watermelon\"]"
      ]
     },
     "execution_count": 14,
     "metadata": {},
     "output_type": "execute_result"
    }
   ],
   "source": [
    "# fruits_df = fruits_df['fruits'].apply(lambda x:filter(x))\n",
    "# fruits_df.head()\n",
    "fruits_df[~fruits_df['fruits'].str.contains('apple')]"
   ]
  },
  {
   "cell_type": "code",
   "execution_count": null,
   "metadata": {},
   "outputs": [],
   "source": []
  }
 ],
 "metadata": {
  "kernelspec": {
   "display_name": "Python 3",
   "language": "python",
   "name": "python3"
  },
  "language_info": {
   "codemirror_mode": {
    "name": "ipython",
    "version": 3
   },
   "file_extension": ".py",
   "mimetype": "text/x-python",
   "name": "python",
   "nbconvert_exporter": "python",
   "pygments_lexer": "ipython3",
   "version": "3.7.7"
  }
 },
 "nbformat": 4,
 "nbformat_minor": 4
}
